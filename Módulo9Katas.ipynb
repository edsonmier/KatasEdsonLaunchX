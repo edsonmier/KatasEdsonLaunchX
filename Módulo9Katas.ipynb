{
  "cells": [
    {
      "cell_type": "markdown",
      "metadata": {},
      "source": [
        "# Ejercicio: Uso de funciones en Python"
      ]
    },
    {
      "cell_type": "markdown",
      "metadata": {},
      "source": [
        "### Ejercicio 1: Trabajar con argumentos en funciones\n",
        "\n",
        "Los argumentos requeridos en las funciones se utilizan cuando las funciones necesitan que esos argumentos funcionen correctamente. En este ejercicio, construirás un informe de combustible que requiere información de varias ubicaciones de combustible en todo el cohete.\n",
        "\n"
      ]
    },
    {
      "cell_type": "markdown",
      "metadata": {},
      "source": [
        "> **TIP**\n",
        "> Dedica unos minutos para tratar de encontrar una solución. Luego desplázate hacia abajo hasta la parte inferior para ver si has logrado compilar el programa de acuerdo con las especificaciones\n",
        "\n",
        "Comienza por crear una función que necesite tres lecturas de combustible y devuelva un informe:"
      ]
    },
    {
      "cell_type": "code",
      "execution_count": 3,
      "metadata": {},
      "outputs": [],
      "source": [
        "# Función para leer 3 tanques de combustible y muestre el promedio\n",
        "def calculateTanks(first_tank, second_tank, third_tank):\n",
        "    average = (first_tank + second_tank + third_tank) / 3\n",
        "    return f\"\"\"\n",
        "    Promedio de los tanques: {average}%\n",
        "    Primer tanque: {first_tank}%\n",
        "    Segundo tanque: {second_tank}%\n",
        "    Tercer tanque: {third_tank}% \n",
        "    \"\"\""
      ]
    },
    {
      "cell_type": "markdown",
      "metadata": {},
      "source": [
        "Ahora que hemos definido la función de informes, vamos a comprobarlo. Para esta misión, los tanques no están llenos:"
      ]
    },
    {
      "cell_type": "code",
      "execution_count": 4,
      "metadata": {},
      "outputs": [
        {
          "name": "stdout",
          "output_type": "stream",
          "text": [
            "\n",
            "    Promedio de los tanques: 68.33333333333333%\n",
            "    Primer tanque: 50%\n",
            "    Segundo tanque: 75%\n",
            "    Tercer tanque: 80% \n",
            "    \n"
          ]
        }
      ],
      "source": [
        "\n",
        "# Llamamos a la función que genera el reporte print(funcion(tanque1, tanque2, tanque3))\n",
        "print(calculateTanks(50, 75, 80))"
      ]
    },
    {
      "cell_type": "markdown",
      "metadata": {},
      "source": [
        "En lugar de simplemente crear el informe, la función también está calculando el promedio. Mejora la legibilidad extrayendo el cálculo promedio de la función en una nueva función para que el promedio se pueda hacer de forma independiente:"
      ]
    },
    {
      "cell_type": "code",
      "execution_count": 11,
      "metadata": {},
      "outputs": [
        {
          "data": {
            "text/plain": [
              "70.6"
            ]
          },
          "execution_count": 11,
          "metadata": {},
          "output_type": "execute_result"
        }
      ],
      "source": [
        "# Función promedio \n",
        "def getAverage(numbers_list):\n",
        "    listSum = sum(numbers_list)\n",
        "    elements = len(numbers_list)\n",
        "    return listSum / elements\n",
        "\n",
        "getAverage([50, 75, 80, 98, 50]) "
      ]
    },
    {
      "cell_type": "markdown",
      "metadata": {},
      "source": [
        "Ahora actualiza la función de informes para llamando a la nueva función del promedio:\n"
      ]
    },
    {
      "cell_type": "code",
      "execution_count": 13,
      "metadata": {},
      "outputs": [
        {
          "name": "stdout",
          "output_type": "stream",
          "text": [
            "\n",
            "    Promedio de los tanques: 68.33333333333333%\n",
            "    Primer tanque: 50%\n",
            "    Segundo tanque: 75%\n",
            "    Tercer tanque: 80% \n",
            "    \n"
          ]
        }
      ],
      "source": [
        "# Actualiza la función\n",
        "def calculateTanks(first_tank, second_tank, third_tank):\n",
        "    return f\"\"\"\n",
        "    Promedio de los tanques: {getAverage([first_tank, second_tank, third_tank])}%\n",
        "    Primer tanque: {first_tank}%\n",
        "    Segundo tanque: {second_tank}%\n",
        "    Tercer tanque: {third_tank}% \n",
        "    \"\"\"\n",
        "\n",
        "print(calculateTanks(50, 75, 80))"
      ]
    },
    {
      "cell_type": "markdown",
      "metadata": {},
      "source": [
        "> Recuerda: Lo importante es intentarlo, puedes auxiliarte de internet, libros, etc. El objetivo de una kata es la comprobación de la comprensión de la lección y su aplicación inmediata a la resolución de problemas. Go for it!"
      ]
    },
    {
      "cell_type": "markdown",
      "metadata": {},
      "source": [
        "## Ejercicio 2: Trabajo con argumentos de palabra clave"
      ]
    },
    {
      "cell_type": "markdown",
      "metadata": {},
      "source": [
        "### Ejercicio : Trabajar con argumentos de palabras clave en funciones\n",
        "En este ejercicio, construirás un informe de cohete que requiere varias piezas de información, como el tiempo hasta el destino, el combustible a la izquierda y el nombre del destino. Comienza por crear una función que creará un informe preciso de la misión:"
      ]
    },
    {
      "cell_type": "code",
      "execution_count": 15,
      "metadata": {},
      "outputs": [
        {
          "name": "stdout",
          "output_type": "stream",
          "text": [
            "\n",
            "    Bienvenidos al viaje hacia Marte.\n",
            "    Tiempo de vuelo: 93 minutos.\n",
            "    Nuestro combustible restante es de: 3000 galones.\n",
            "    \n"
          ]
        }
      ],
      "source": [
        "# Función con un informe preciso de la misión. Considera hora de prelanzamiento, tiempo de vuelo, destino, tanque externo y tanque interno\n",
        "def calculateMission(launch_lapse, flight_lapse, endpoint, first_tank, second_tank):\n",
        "    return f\"\"\"\n",
        "    Bienvenidos al viaje hacia {endpoint}.\n",
        "    Tiempo de vuelo: {launch_lapse + flight_lapse} minutos.\n",
        "    Nuestro combustible restante es de: {first_tank + second_tank} galones.\n",
        "    \"\"\"\n",
        "print(calculateMission(23, 70, \"Marte\", 2000, 1000))"
      ]
    },
    {
      "cell_type": "markdown",
      "metadata": {},
      "source": [
        "La función es problemática porque no se puede adaptar para minutos adicionales o tanques adicionales de combustible. Hazlo más flexible permitiendo cualquier número de pasos basados en el tiempo y cualquier número de tanques. En lugar de usar `*args` y `**kwargs`, aprovecha el hecho de que puedes usar cualquier nombre que desees. Asegurate que la función sea más legible mediante el uso de nombres de variables que están asociados con las entradas, como `*minutes` y `**fuel_reservoirs`:"
      ]
    },
    {
      "cell_type": "code",
      "execution_count": 19,
      "metadata": {},
      "outputs": [
        {
          "name": "stdout",
          "output_type": "stream",
          "text": [
            "\n",
            "    Bienvenidos al viaje hacia Marte.\n",
            "    Tiempo de vuelo: 173 minutos.\n",
            "    Nuestro combustible restante es de: 3000 galones.\n",
            "    \n"
          ]
        }
      ],
      "source": [
        "# Escribe tu nueva función de reporte considerando lo anterior\n",
        "def calculateMission(endpoint, *minutes, **fuel_reservoirs):\n",
        "    return f\"\"\"\n",
        "    Bienvenidos al viaje hacia {endpoint}.\n",
        "    Tiempo de vuelo: {sum(minutes)} minutos.\n",
        "    Nuestro combustible restante es de: {sum(fuel_reservoirs.values())} galones.\n",
        "    \"\"\"\n",
        "\n",
        "print(calculateMission(\"Marte\", 23, 70, first=2000, second=1000))"
      ]
    },
    {
      "cell_type": "markdown",
      "metadata": {},
      "source": [
        "Debido a que el combustible que queda en los tanques es específico de cada tanque, actualiza la función para usar el nombre de cada tanque en el informe:"
      ]
    },
    {
      "cell_type": "code",
      "execution_count": 22,
      "metadata": {},
      "outputs": [
        {
          "name": "stdout",
          "output_type": "stream",
          "text": [
            "\n",
            "    Bienvenidos al viaje hacia Marte.\n",
            "    Tiempo de vuelo: 93 minutos.\n",
            "    Nuestro combustible restante es de: 3000 galones.\n",
            "    Tanque first = 2000 galones restantes\n",
            "Tanque second = 1000 galones restantes\n",
            "\n"
          ]
        }
      ],
      "source": [
        "# Escribe tu nueva función\n",
        "def calculateMission(endpoint, *minutes, **fuel_reservoirs):\n",
        "    info = f\"\"\"\n",
        "    Bienvenidos al viaje hacia {endpoint}.\n",
        "    Tiempo de vuelo: {sum(minutes)} minutos.\n",
        "    Nuestro combustible restante es de: {sum(fuel_reservoirs.values())} galones.\n",
        "    \"\"\"\n",
        "\n",
        "    for tankNumber, gallons in fuel_reservoirs.items():\n",
        "        info += f\"Tanque {tankNumber} = {gallons} galones restantes\\n\"\n",
        "    return info\n",
        "\n",
        "\n",
        "print(calculateMission(\"Marte\", 23, 70, first=2000, second=1000))"
      ]
    }
  ],
  "metadata": {
    "interpreter": {
      "hash": "205095b8b86ea82a021a8fc2ffba2b3bc9f8d0be25999901963b225939f75778"
    },
    "kernelspec": {
      "display_name": "Python 3.8.10 64-bit ('tmp': conda)",
      "name": "python3"
    },
    "language_info": {
      "codemirror_mode": {
        "name": "ipython",
        "version": 3
      },
      "file_extension": ".py",
      "mimetype": "text/x-python",
      "name": "python",
      "nbconvert_exporter": "python",
      "pygments_lexer": "ipython3",
      "version": "3.10.2"
    },
    "nteract": {
      "version": "nteract-front-end@1.0.0"
    },
    "orig_nbformat": 4
  },
  "nbformat": 4,
  "nbformat_minor": 2
}
